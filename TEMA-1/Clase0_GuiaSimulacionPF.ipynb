{
 "cells": [
  {
   "cell_type": "markdown",
   "metadata": {},
   "source": [
    "___\n",
    "<img style=\"float: right; margin: 0px 0px 15px 15px;\" src=\"https://upload.wikimedia.org/wikipedia/commons/thumb/4/4a/Python3-powered_hello-world.svg/1000px-Python3-powered_hello-world.svg.png\" width=\"300px\" height=\"100px\" />\n",
    "\n",
    "\n",
    "## <font color= #8A0829> Simulación de procesos financieros.</font>\n",
    "#### <font color= #2E9AFE>  `Lunes-Miercoles de 09:00 a 11:00 hrs`</font>\n",
    "- <Strong> Oscar David Jaramillo Zulluaga </Strong>\n",
    "- <Strong> Año </Strong>: 2018\n",
    "- <Strong> Copyright: </Strong> Public Domain como en [CC](https://creativecommons.org/licenses/by/2.0/) (Exepto donde se indique lo contrario)\n",
    "\n",
    "- <Strong> Email: </Strong> <font color=\"blue\"> `odjaramilloz@gmail.com, odjaramilloz@iteso.mx`  </font>\n",
    "___"
   ]
  },
  {
   "cell_type": "markdown",
   "metadata": {},
   "source": [
    "**Presentación de ustedes**"
   ]
  },
  {
   "cell_type": "markdown",
   "metadata": {},
   "source": [
    "**Algunas reglas de juego**"
   ]
  },
  {
   "cell_type": "markdown",
   "metadata": {},
   "source": [
    "*Este es un curso básico de simulación utilizando python, por ende vamos a iniciar elaborando programas simples y conforme avancemos el nivel de exigencia aumentará, hasta donde el tiempo nos permita. *\n",
    "***"
   ]
  },
  {
   "cell_type": "markdown",
   "metadata": {},
   "source": [
    "### `Descripción de la asignatura`\n",
    "\n",
    "- Se analiza el comportamiento de procesos financieros mediante diseñar, formular, estructurar, solucionar y dar recomendaciones sobre procesos de simulación financiera para la toma de decisiones, estructurando estrategias dinámicas y políticas apropiadas al sistema.\n",
    "\n",
    "- La asignatura está diseñada para que logres dichos propósitos e inicies un proceso que te permita apropiarte de desempeños profesionales muy útiles en tu formación profesional y en tu futuro, al incorporarte a la industria u organizaciones que te demandarán resolver e implementar la simulación de escenarios bajo diferentes situaciones a través de la sistematización de la solución al problema planteado."
   ]
  },
  {
   "cell_type": "markdown",
   "metadata": {},
   "source": [
    "#### `OBJETIVO GENERAL `\n",
    ">  <p style='text-align: justify;'> El alumno desarrolla competencias para analizar sistemas financieros mediante la evaluación del comportamiento en el tiempo obtenido con la simulación dinámica de los procesos que lo integran, para la toma de decisiones financieras corporativas sobre valores, portafolios, créditos, intereses, monedas, precios bajo incertidumbre y riesgos.</p>"
   ]
  },
  {
   "cell_type": "markdown",
   "metadata": {},
   "source": [
    "`TEMA 1`: **Introducción a la Simulación**\n",
    "> En este primer módulo no se aplicará una evaluación pero si se evaluarán tareas y trabajos en equipo **(10%).**  \n",
    "   1. Introducción a la simulación.\n",
    "    - Introducción e instalación de software\n",
    "   2. ¿Cómo funciona `Git` **(gitkraken)**?\n",
    "   3. ¿Cómo funciona `Github`?\n",
    "   4. Introducción a phyton\n",
    "   5. Metodología de un estudio de simulación\n",
    "   6. Ejemplos simples de aplicación de simulación"
   ]
  },
  {
   "cell_type": "markdown",
   "metadata": {},
   "source": [
    "`TEMA 2.`  ** Simulación Montecarlo **\n",
    "> Se aplicará una evaluación (**exámen 15%**) y se evaluará una presentación de **proyecto 15%.**\n",
    "   1. Método Montecarlo crudo\n",
    "   2. Generación de  Números Pseudoaleatorios\n",
    "   3. Generación de observaciones aleatorias a partir de una distribución de probabilidad\n",
    "    - Método de la transformada inversa\n",
    "    - Método de aceptación rechazo\n",
    "   4. Distribuciones de  probabilidad \n",
    "    - Distribución uniforme general\n",
    "    - Distribución triangular\n",
    "    - Distribución normal\n",
    "        - Distribuciones normales correlacionadas\n",
    "    - Distribución exponencial\n",
    "    - Distribución de Erlang\n",
    "    - Distribución Binomial\n",
    "    - Distribución de Poisson\n",
    "    - Distribuciones de valores extremos\n",
    "   5. Técnicas de reducción de varianza\n",
    "    - Muestreo estratificado\n",
    "    - Método de números aleatorios complementarios\n",
    "   6. Método regenerativo de análisis estadístico\n",
    "   7. Prueba de bondad de ajuste para ajuste de distribuciones de probabilidad\n",
    "   8. Bootstrapping\n",
    "   9. Aplicaciones de la simulación."
   ]
  },
  {
   "cell_type": "markdown",
   "metadata": {},
   "source": [
    "`TEMA 3.` ** Valuación de Opciones usando Simulación Monte Carlo **\n",
    "> Se aplicará una evaluación (**exámen 15%**) y se evaluará una presentación de **proyecto 15%.**\n",
    "1. Opciones Plan Vainilla: opción de compra y opción de venta europea\n",
    "2. Opciones Asiáticas\n",
    "3. Opciones americanas\n",
    "4. Opciones de barrera"
   ]
  },
  {
   "cell_type": "markdown",
   "metadata": {},
   "source": [
    "`TEMA 4.` ** Administración del Riesgo y Valor del Riesgo**\n",
    "> Se aplicará una evaluación (**exámen 15%**) y se evaluará una presentación de **proyecto 15%.**\n",
    "1. Tipos de riesgos financieros\n",
    "2. Valor del riesgo (VaR)\n",
    "3. El entorno regulatorio de Basel\n",
    "4. Enfoques para el cálculo del VaR\n",
    "5. Cálculo del VaR usando simulación Monte Carlo\n",
    "6. Cálculo del Var para un portafolio de bonos"
   ]
  },
  {
   "cell_type": "markdown",
   "metadata": {},
   "source": [
    "### `Evaluación y bibliografía sugerida`\n",
    "\n",
    "- <strong> 3 Proyectos (trabajo en equipo)       45%</strong>\n",
    " - Cada proyecto tiene un valor del 15% \n",
    "  - La evaluación de cada proyecto se divide en dos partes \n",
    "   - Reporte     7.5%\n",
    "   - Exposición  7.5% \n",
    "- **3 Examenes  45 %**\n",
    " - Examen 1 -> 15%\n",
    " - Examen 2 -> 15%\n",
    " - Examen 3 -> 15%\n",
    "- Tareas y actividades del `TEMA 1` -> 10 %\n",
    "- <font color=\"blue\">Equipos de 2 integrantes mínimo y 3 máximo</font>.\n",
    " - Si durante algún proyecto las cosas no funcionan entre los integrantes, para el siguiente proyecto se pueden formar equipos nuevos. "
   ]
  },
  {
   "cell_type": "markdown",
   "metadata": {},
   "source": [
    "### `Bibliografía `"
   ]
  },
  {
   "cell_type": "markdown",
   "metadata": {},
   "source": [
    "> ```\n",
    "- Simulation techniques in financial risk management by Ngail Hang Chan and Hoi Ying Wong, year 2015\n",
    "- Monte Carlo methods in finalcial engineering by Paul Glasserman, year 2010\n",
    "- Handbook in Monte Carlo simulation applications in financial engineering, risk management, and economics by Paolo Brandimarte, year 2014```\n",
    "Estos y muchos mas libros los pueden encontrar en la Biblioteca."
   ]
  },
  {
   "cell_type": "markdown",
   "metadata": {},
   "source": [
    "<script>\n",
    "  $(document).ready(function(){\n",
    "    $('div.prompt').hide();\n",
    "    $('div.back-to-top').hide();\n",
    "    $('nav#menubar').hide();\n",
    "    $('.breadcrumb').hide();\n",
    "    $('.hidden-print').hide();\n",
    "  });\n",
    "</script>\n",
    "\n",
    "<footer id=\"attribution\" style=\"float:right; color:#808080; background:#fff;\">\n",
    "Created with Jupyter by Lázaro Alonso. Modified by Oscar David Jaramillo Zuluaga.\n",
    "</footer>"
   ]
  }
 ],
 "metadata": {
  "anaconda-cloud": {},
  "kernelspec": {
   "display_name": "Python 3",
   "language": "python",
   "name": "python3"
  },
  "language_info": {
   "codemirror_mode": {
    "name": "ipython",
    "version": 3
   },
   "file_extension": ".py",
   "mimetype": "text/x-python",
   "name": "python",
   "nbconvert_exporter": "python",
   "pygments_lexer": "ipython3",
   "version": "3.6.2"
  }
 },
 "nbformat": 4,
 "nbformat_minor": 1
}
